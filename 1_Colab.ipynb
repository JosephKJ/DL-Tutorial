{
  "nbformat": 4,
  "nbformat_minor": 0,
  "metadata": {
    "colab": {
      "name": "1_Colab.ipynb",
      "version": "0.3.2",
      "provenance": [],
      "collapsed_sections": [],
      "include_colab_link": true
    },
    "kernelspec": {
      "name": "python3",
      "display_name": "Python 3"
    },
    "accelerator": "GPU"
  },
  "cells": [
    {
      "cell_type": "markdown",
      "metadata": {
        "id": "view-in-github",
        "colab_type": "text"
      },
      "source": [
        "<a href=\"https://colab.research.google.com/github/JosephKJ/DL-Tutorial/blob/master/1_Colab.ipynb\" target=\"_parent\"><img src=\"https://colab.research.google.com/assets/colab-badge.svg\" alt=\"Open In Colab\"/></a>"
      ]
    },
    {
      "cell_type": "code",
      "metadata": {
        "id": "gk0YzTVrI3vE",
        "colab_type": "code",
        "colab": {}
      },
      "source": [
        "print('Hello World!')"
      ],
      "execution_count": 0,
      "outputs": []
    },
    {
      "cell_type": "markdown",
      "metadata": {
        "id": "JAS91Nc8PMEY",
        "colab_type": "text"
      },
      "source": [
        "## Complete control on your host machine."
      ]
    },
    {
      "cell_type": "code",
      "metadata": {
        "id": "-SkzraeyJ60T",
        "colab_type": "code",
        "colab": {}
      },
      "source": [
        "! nvidia-smi"
      ],
      "execution_count": 0,
      "outputs": []
    },
    {
      "cell_type": "code",
      "metadata": {
        "id": "mchjo9UrOs8O",
        "colab_type": "code",
        "colab": {}
      },
      "source": [
        "! which python\n",
        "! python --version"
      ],
      "execution_count": 0,
      "outputs": []
    },
    {
      "cell_type": "markdown",
      "metadata": {
        "id": "48WiuZjoRCgF",
        "colab_type": "text"
      },
      "source": [
        "## Good for quick prototyping"
      ]
    },
    {
      "cell_type": "code",
      "metadata": {
        "id": "mflQ46AKPATr",
        "colab_type": "code",
        "colab": {}
      },
      "source": [
        "import numpy as np\n",
        "\n",
        "np.arange?"
      ],
      "execution_count": 0,
      "outputs": []
    },
    {
      "cell_type": "code",
      "metadata": {
        "id": "dv5yGsKaRn6w",
        "colab_type": "code",
        "colab": {}
      },
      "source": [
        "np.a # Auto-Complete"
      ],
      "execution_count": 0,
      "outputs": []
    },
    {
      "cell_type": "code",
      "metadata": {
        "id": "7vatednrSAXg",
        "colab_type": "code",
        "colab": {}
      },
      "source": [
        "import numpy as np\n",
        "from matplotlib import pyplot as plt\n",
        "\n",
        "ys = 100 + np.random.randn(100)\n",
        "x = [x for x in range(len(ys))]\n",
        "\n",
        "plt.plot(x, ys, 'go--')\n",
        "\n",
        "plt.show()"
      ],
      "execution_count": 0,
      "outputs": []
    },
    {
      "cell_type": "markdown",
      "metadata": {
        "id": "vfro50KmWc6u",
        "colab_type": "text"
      },
      "source": [
        "## What all packages are installed?"
      ]
    },
    {
      "cell_type": "code",
      "metadata": {
        "id": "PmibMJ83T2d-",
        "colab_type": "code",
        "colab": {}
      },
      "source": [
        "! pip freeze"
      ],
      "execution_count": 0,
      "outputs": []
    },
    {
      "cell_type": "code",
      "metadata": {
        "id": "DCj4BVBhWIui",
        "colab_type": "code",
        "colab": {}
      },
      "source": [
        ""
      ],
      "execution_count": 0,
      "outputs": []
    }
  ]
}