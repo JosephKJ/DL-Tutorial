{
  "nbformat": 4,
  "nbformat_minor": 0,
  "metadata": {
    "colab": {
      "name": "3_MLP_Digit_Classification.ipynb",
      "version": "0.3.2",
      "provenance": [],
      "include_colab_link": true
    },
    "kernelspec": {
      "name": "python3",
      "display_name": "Python 3"
    },
    "accelerator": "GPU"
  },
  "cells": [
    {
      "cell_type": "markdown",
      "metadata": {
        "id": "view-in-github",
        "colab_type": "text"
      },
      "source": [
        "<a href=\"https://colab.research.google.com/github/JosephKJ/DL-Tutorial/blob/master/3_MLP_Digit_Classification.ipynb\" target=\"_parent\"><img src=\"https://colab.research.google.com/assets/colab-badge.svg\" alt=\"Open In Colab\"/></a>"
      ]
    },
    {
      "cell_type": "markdown",
      "metadata": {
        "id": "CbCalrSXrhTH",
        "colab_type": "text"
      },
      "source": [
        "## Digit Classifier\n",
        "\n",
        "MNIST dataset contains images of digits. We will use this data to train a classifier which can recognise numerals from 0 - 9."
      ]
    },
    {
      "cell_type": "markdown",
      "metadata": {
        "id": "38D0b-bXsFx8",
        "colab_type": "text"
      },
      "source": [
        "### Imports"
      ]
    },
    {
      "cell_type": "code",
      "metadata": {
        "id": "gAkZfhsdr5PX",
        "colab_type": "code",
        "colab": {}
      },
      "source": [
        "import torch\n",
        "import torch.nn as nn\n",
        "import torch.nn.functional as F\n",
        "import torchvision.datasets as datasets\n",
        "from torch.utils.data import DataLoader\n",
        "from torchvision import transforms\n"
      ],
      "execution_count": 0,
      "outputs": []
    },
    {
      "cell_type": "markdown",
      "metadata": {
        "id": "ge8JNbegsJKN",
        "colab_type": "text"
      },
      "source": [
        "### Define the model"
      ]
    },
    {
      "cell_type": "code",
      "metadata": {
        "id": "ijhnQX2YsLjr",
        "colab_type": "code",
        "colab": {}
      },
      "source": [
        "class MLP(nn.Module):\n",
        "    def __init__(self):\n",
        "        super(MLP, self).__init__()\n",
        "        self.fc1 = nn.Linear(28*28, 50)\n",
        "        self.fc1_drop = nn.Dropout(0.2)\n",
        "        self.fc2 = nn.Linear(50, 50)\n",
        "        self.fc2_drop = nn.Dropout(0.2)\n",
        "        self.fc3 = nn.Linear(50, 10)\n",
        "\n",
        "    def forward(self, x):\n",
        "        x = x.view(-1, 28*28)\n",
        "        x = F.relu(self.fc1(x))\n",
        "        x = self.fc1_drop(x)\n",
        "        x = F.relu(self.fc2(x))\n",
        "        x = self.fc2_drop(x)\n",
        "        return F.log_softmax(self.fc3(x), dim=1)\n"
      ],
      "execution_count": 0,
      "outputs": []
    },
    {
      "cell_type": "markdown",
      "metadata": {
        "id": "qm7yxv3hsP0A",
        "colab_type": "text"
      },
      "source": [
        "### Variables that determine the training dynamics"
      ]
    },
    {
      "cell_type": "code",
      "metadata": {
        "id": "MxTmJloksY8T",
        "colab_type": "code",
        "colab": {}
      },
      "source": [
        "# Variables\n",
        "batch_size = 32\n",
        "learning_rate = 0.01\n",
        "epochs = 1\n",
        "device = torch.device('cuda:0')"
      ],
      "execution_count": 0,
      "outputs": []
    },
    {
      "cell_type": "markdown",
      "metadata": {
        "id": "9HffytGDsbsb",
        "colab_type": "text"
      },
      "source": [
        "### Loading Data"
      ]
    },
    {
      "cell_type": "code",
      "metadata": {
        "id": "eizWIszGsfWp",
        "colab_type": "code",
        "colab": {}
      },
      "source": [
        "# Data\n",
        "train_data = datasets.MNIST('./data', train=True, download=True, transform=transforms.ToTensor())\n",
        "test_data = datasets.MNIST('./data', train=False, download=True, transform=transforms.ToTensor())\n",
        "train_dataloader = DataLoader(train_data, batch_size=batch_size, shuffle=True)\n",
        "test_dataloader = DataLoader(test_data, batch_size=batch_size, shuffle=True)"
      ],
      "execution_count": 0,
      "outputs": []
    },
    {
      "cell_type": "markdown",
      "metadata": {
        "id": "wrvuZBnfsqla",
        "colab_type": "text"
      },
      "source": [
        "### Helper Class and Functions"
      ]
    },
    {
      "cell_type": "code",
      "metadata": {
        "id": "vEeQ9PWLst8e",
        "colab_type": "code",
        "colab": {}
      },
      "source": [
        "# Some helper class and function\n",
        "\n",
        "class Metrics:\n",
        "    def __init__(self):\n",
        "        self.val = 0\n",
        "        self.sum = 0\n",
        "        self.count = 0\n",
        "        self.avg = 0\n",
        "\n",
        "    def update(self, val, n=1):\n",
        "        self.val = val\n",
        "        self.sum += val*n\n",
        "        self.count += n\n",
        "        self.avg = self.sum / self.count\n",
        "        \n",
        "def compute_accuracy(output, target, topk=(1,)):\n",
        "    maxk = max(topk)\n",
        "    batch_size = target.size(0)\n",
        "\n",
        "    _, pred = output.topk(maxk, 1)\n",
        "    pred = pred.t()\n",
        "    correct = pred.eq(target.view(1, -1).expand_as(pred))\n",
        "\n",
        "    result = []\n",
        "    for k in topk:\n",
        "        correct_k = correct[:k].view(-1).float().sum(0)\n",
        "        result.append(correct_k.mul_(100.0 / batch_size))\n",
        "    return result"
      ],
      "execution_count": 0,
      "outputs": []
    },
    {
      "cell_type": "markdown",
      "metadata": {
        "id": "7mDhz_W8s2zF",
        "colab_type": "text"
      },
      "source": [
        "### Training"
      ]
    },
    {
      "cell_type": "code",
      "metadata": {
        "id": "mAS_CDj0gHsh",
        "colab_type": "code",
        "colab": {}
      },
      "source": [
        "model = MLP().to(device)\n",
        "opt = torch.optim.Adam(model.parameters(), lr=learning_rate)\n",
        "model.train()\n",
        "\n",
        "for e in range(epochs):\n",
        "    accuracy_metric = Metrics()\n",
        "    loss_metric = Metrics()\n",
        "    for index, (x, y) in enumerate(train_dataloader):\n",
        "        x = x.to(device)\n",
        "        y = y.to(device)\n",
        "\n",
        "        y_pred = model(x)\n",
        "\n",
        "        loss = F.cross_entropy(y_pred, y)\n",
        "\n",
        "        opt.zero_grad()\n",
        "        loss.backward()\n",
        "        opt.step()\n",
        "\n",
        "        # Book-keeping\n",
        "        accuracy = compute_accuracy(y_pred, y)[0].item()\n",
        "        accuracy_metric.update(accuracy)\n",
        "        loss_metric.update(loss.item())\n",
        "\n",
        "        if index % 100 == 0:\n",
        "            print('Epoch: ' + str(e) + '\\t | \\t Loss: ' + str(loss_metric.avg) + '\\t | \\tAccuracy: ' + str(accuracy_metric.avg))\n"
      ],
      "execution_count": 0,
      "outputs": []
    },
    {
      "cell_type": "markdown",
      "metadata": {
        "id": "NoTenTcrs7kQ",
        "colab_type": "text"
      },
      "source": [
        "### Exercise 1: Can you find the test accuracy?"
      ]
    },
    {
      "cell_type": "markdown",
      "metadata": {
        "id": "Fdm4LXLFvPdg",
        "colab_type": "text"
      },
      "source": [
        "### Exercise 2: Can you improve the training and test accuracy?"
      ]
    },
    {
      "cell_type": "markdown",
      "metadata": {
        "id": "rZms33y7vbcM",
        "colab_type": "text"
      },
      "source": [
        "### Exercise 3: Shall we add batch normalization?"
      ]
    },
    {
      "cell_type": "markdown",
      "metadata": {
        "id": "NAfHuhPSvibd",
        "colab_type": "text"
      },
      "source": [
        "### Exercise 4: Lets add Drop-out too."
      ]
    }
  ]
}